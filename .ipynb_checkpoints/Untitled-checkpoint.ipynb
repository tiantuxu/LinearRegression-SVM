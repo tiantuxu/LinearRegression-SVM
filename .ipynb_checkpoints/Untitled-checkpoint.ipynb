{
 "cells": [
  {
   "cell_type": "code",
   "execution_count": 24,
   "metadata": {},
   "outputs": [
    {
     "data": {
      "text/plain": [
       "LinearSVC(C=0.5, class_weight=None, dual=True, fit_intercept=True,\n",
       "     intercept_scaling=0.01, loss='hinge', max_iter=5000,\n",
       "     multi_class='ovr', penalty='l2', random_state=0, tol=1e-06, verbose=0)"
      ]
     },
     "execution_count": 24,
     "metadata": {},
     "output_type": "execute_result"
    }
   ],
   "source": [
    "from sklearn.svm import LinearSVC\n",
    "from sklearn.datasets import make_classification\n",
    "import sys, os\n",
    "import pandas as pd\n",
    "import numpy as np\n",
    "trainingDataFilename = 'trainingSet.csv'\n",
    "testDataFilename = 'testSet.csv'\n",
    "\n",
    "trainingSet = pd.read_csv(trainingDataFilename)\n",
    "testSet = pd.read_csv(testDataFilename)\n",
    "\n",
    "\n",
    "train_labels = trainingSet['decision']\n",
    "test_labels = testSet['decision']\n",
    "    \n",
    "trainingSet = trainingSet.drop('decision', axis=1)\n",
    "testSet = testSet.drop('decision', axis=1)\n",
    "X = np.array(trainingSet)\n",
    "Y = np.array(train_labels)\n",
    "intercept = np.ones((X.shape[0], 1))\n",
    "X = np.hstack((intercept, X))\n",
    "\n",
    "clf = LinearSVC(C= 0.5, intercept_scaling = 0.01, random_state=0, loss='hinge', tol=1e-6, max_iter=5000)\n",
    "clf.fit(X, Y)"
   ]
  },
  {
   "cell_type": "code",
   "execution_count": 25,
   "metadata": {},
   "outputs": [
    {
     "name": "stdout",
     "output_type": "stream",
     "text": [
      "Training Accuracy SVM: 0.83\n"
     ]
    }
   ],
   "source": [
    "predictions = clf.predict(X)\n",
    "total_train = len(trainingSet)\n",
    "count_train = 0\n",
    "total_test = len(testSet)\n",
    "count_test = 0\n",
    "\n",
    "for i in range(len(predictions)):    \n",
    "        if predictions[i] == int(Y[i]):\n",
    "            count_train += 1\n",
    "\n",
    "training_accuracy = 1.0 * count_train/total_train\n",
    "print 'Training Accuracy SVM:', '%.2f' % training_accuracy"
   ]
  },
  {
   "cell_type": "code",
   "execution_count": null,
   "metadata": {},
   "outputs": [],
   "source": []
  }
 ],
 "metadata": {
  "kernelspec": {
   "display_name": "Python 2",
   "language": "python",
   "name": "python2"
  },
  "language_info": {
   "codemirror_mode": {
    "name": "ipython",
    "version": 2
   },
   "file_extension": ".py",
   "mimetype": "text/x-python",
   "name": "python",
   "nbconvert_exporter": "python",
   "pygments_lexer": "ipython2",
   "version": "2.7.12"
  }
 },
 "nbformat": 4,
 "nbformat_minor": 2
}
