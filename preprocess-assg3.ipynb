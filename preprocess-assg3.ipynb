{
 "cells": [
  {
   "cell_type": "code",
   "execution_count": 1,
   "metadata": {},
   "outputs": [],
   "source": [
    "import sys, os\n",
    "import pandas as pd"
   ]
  },
  {
   "cell_type": "code",
   "execution_count": 2,
   "metadata": {},
   "outputs": [],
   "source": [
    "#input_filename = argv[1]\n",
    "#output_filename = argv[2]\n",
    "sys.argv[1] = 'dating-full.csv'\n",
    "sys.argv[2] = 'dating.csv'\n",
    "# Load csv\n",
    "d = pd.read_csv(sys.argv[1])\n",
    "d = d.head(6500)"
   ]
  },
  {
   "cell_type": "code",
   "execution_count": 3,
   "metadata": {},
   "outputs": [],
   "source": [
    "quote = 0\n",
    "(row, col) = d.shape\n",
    "#print row\n",
    "#print col\n",
    "for i in range(row):\n",
    "    if d['race'][i].startswith(\"'\") and d['race'][i].endswith(\"'\"):\n",
    "        quote += 1\n",
    "    if d['race_o'][i].startswith(\"'\") and d['race_o'][i].endswith(\"'\"):\n",
    "        quote += 1\n",
    "    if d['field'][i].startswith(\"'\") and d['field'][i].endswith(\"'\"):\n",
    "        quote += 1\n",
    "\n",
    "d['race'] = d['race'].str.replace(\"'\",\"\")\n",
    "d['race_o'] = d['race_o'].str.replace(\"'\",\"\")\n",
    "d['field'] = d['field'].str.replace(\"'\",\"\")"
   ]
  },
  {
   "cell_type": "code",
   "execution_count": 4,
   "metadata": {},
   "outputs": [],
   "source": [
    "case = 0\n",
    "for i in range(row):\n",
    "    if any(letter.isupper() for letter in str(d['field'][i])):\n",
    "        case += 1\n",
    "\n",
    "d['field'] = d['field'].str.lower()"
   ]
  },
  {
   "cell_type": "code",
   "execution_count": 5,
   "metadata": {},
   "outputs": [],
   "source": [
    "preference_scores_of_participant  = \\\n",
    "['attractive_important', 'sincere_important', 'intelligence_important',\\\n",
    " 'funny_important', 'ambition_important', 'shared_interests_important']\n",
    "\n",
    "preference_scores_of_partner = \\\n",
    "['pref_o_attractive', 'pref_o_sincere', 'pref_o_intelligence', \\\n",
    " 'pref_o_funny', 'pref_o_ambitious', 'pref_o_shared_interests']\n",
    "\n",
    "for i in range(row):\n",
    "    participant_sum = 0\n",
    "    partner_sum = 0\n",
    "\n",
    "    for pref in preference_scores_of_participant:\n",
    "        participant_sum += d[pref][i]\n",
    "        \n",
    "    for pref in preference_scores_of_partner:\n",
    "        partner_sum += d[pref][i]\n",
    "    \n",
    "    # update the preference scores of participant\n",
    "    for pref in preference_scores_of_participant:\n",
    "        d.loc[i, pref] = d[pref][i]/participant_sum\n",
    "        \n",
    "    # update the preference scores of partner\n",
    "    for pref in preference_scores_of_partner:\n",
    "        d.loc[i, pref] = d[pref][i]/partner_sum"
   ]
  },
  {
   "cell_type": "code",
   "execution_count": 6,
   "metadata": {},
   "outputs": [
    {
     "name": "stdout",
     "output_type": "stream",
     "text": [
      "Mapped vector for female in column gender:  [1]\n",
      "Mapped vector for Black/African American in column race:  [0, 1, 0, 0]\n",
      "Mapped vector for Other in column race_o:  [0, 0, 0, 0]\n",
      "Mapped vector for economics in column field:  [0, 0, 0, 0, 0, 0, 0, 0, 0, 0, 0, 0, 0, 0, 0, 0, 0, 0, 0, 0, 0, 0, 0, 0, 0, 0, 0, 0, 0, 0, 0, 0, 0, 0, 0, 0, 0, 0, 0, 0, 0, 0, 0, 0, 0, 0, 0, 0, 0, 0, 0, 0, 0, 0, 0, 0, 0, 1, 0, 0, 0, 0, 0, 0, 0, 0, 0, 0, 0, 0, 0, 0, 0, 0, 0, 0, 0, 0, 0, 0, 0, 0, 0, 0, 0, 0, 0, 0, 0, 0, 0, 0, 0, 0, 0, 0, 0, 0, 0, 0, 0, 0, 0, 0, 0, 0, 0, 0, 0, 0, 0, 0, 0, 0, 0, 0, 0, 0, 0, 0, 0, 0, 0, 0, 0, 0, 0, 0, 0, 0, 0, 0, 0, 0, 0, 0, 0, 0, 0, 0, 0, 0, 0, 0, 0, 0, 0, 0, 0, 0, 0, 0, 0, 0, 0, 0, 0, 0, 0, 0, 0, 0, 0, 0, 0, 0, 0, 0, 0, 0, 0, 0, 0, 0, 0, 0, 0, 0, 0, 0, 0, 0, 0, 0, 0, 0, 0, 0, 0, 0, 0, 0, 0, 0, 0, 0, 0, 0, 0, 0, 0, 0, 0]\n",
      "204\n"
     ]
    }
   ],
   "source": [
    "categorical_attr = ['gender', 'race', 'race_o', 'field']\n",
    "map_vector = {}\n",
    "\n",
    "for attr in categorical_attr:\n",
    "    map_vector[attr] = {}\n",
    "\n",
    "#print map_vector\n",
    "    \n",
    "for attr in categorical_attr:\n",
    "    #print d[attr].value_counts()\n",
    "    l = d[attr].unique().tolist()\n",
    "    l.sort()\n",
    "    #print l[-1]\n",
    "    \n",
    "    for i in range(len(l)):\n",
    "         l[i] += '_' + attr\n",
    "    \n",
    "    # Initialize the map vector\n",
    "    for field in l:\n",
    "        map_vector[attr][field] = [0 for t in range(len(l) - 1)]\n",
    "    \n",
    "    for i in l:\n",
    "        if i != l[-1]:\n",
    "            map_vector[attr][i][l.index(i)] = 1\n",
    "    \n",
    "    one_hot = pd.get_dummies(d[attr])\n",
    "    col_name = one_hot.columns.tolist()\n",
    "    #print one_hot.columns\n",
    "    \n",
    "    for i in range(len(col_name)):\n",
    "        col_name[i] += '_' + attr\n",
    "\n",
    "    one_hot.columns = col_name\n",
    "    #print one_hot\n",
    "    #pd.get_dummies(d,prefix=attr)\n",
    "    d = d.drop(attr, axis=1)\n",
    "    d = d.join(one_hot)\n",
    "    d = d.drop(col_name[-1], axis=1)\n",
    "    \n",
    "    \n",
    "print 'Mapped vector for female in column gender: ', map_vector['gender']['female_gender']\n",
    "print 'Mapped vector for Black/African American in column race: ', map_vector['race']['Black/African American_race']\n",
    "print 'Mapped vector for Other in column race_o: ', map_vector['race_o']['Other_race_o']\n",
    "print 'Mapped vector for economics in column field: ', map_vector['field']['economics_field']"
   ]
  },
  {
   "cell_type": "code",
   "execution_count": 7,
   "metadata": {},
   "outputs": [],
   "source": [
    "df_test = d.sample(frac=0.2, random_state=25)\n",
    "df_test.to_csv('testSet.csv', index=False)\n",
    "# Subtract test from training\n",
    "df_train = d[~d.index.isin(df_test.index)]\n",
    "df_train.to_csv('trainingSet.csv', index=False)"
   ]
  },
  {
   "cell_type": "code",
   "execution_count": null,
   "metadata": {},
   "outputs": [],
   "source": []
  }
 ],
 "metadata": {
  "kernelspec": {
   "display_name": "Python 2",
   "language": "python",
   "name": "python2"
  },
  "language_info": {
   "codemirror_mode": {
    "name": "ipython",
    "version": 2
   },
   "file_extension": ".py",
   "mimetype": "text/x-python",
   "name": "python",
   "nbconvert_exporter": "python",
   "pygments_lexer": "ipython2",
   "version": "2.7.12"
  }
 },
 "nbformat": 4,
 "nbformat_minor": 2
}
